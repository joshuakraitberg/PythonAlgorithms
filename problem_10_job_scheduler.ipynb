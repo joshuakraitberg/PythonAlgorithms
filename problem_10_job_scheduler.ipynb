{
 "cells": [
  {
   "cell_type": "markdown",
   "metadata": {},
   "source": [
    "## Daily Coding Problem: Problem #10 [Medium]"
   ]
  },
  {
   "cell_type": "markdown",
   "metadata": {},
   "source": [
    "Good morning! Here's your coding interview problem for today.\n",
    "\n",
    "This problem was asked by Apple.\n",
    "\n",
    "Implement a job scheduler which takes in a function f and an integer n, and calls f after n milliseconds."
   ]
  },
  {
   "cell_type": "markdown",
   "metadata": {},
   "source": [
    "#### Imports"
   ]
  },
  {
   "cell_type": "code",
   "execution_count": 1,
   "metadata": {},
   "outputs": [],
   "source": [
    "import time  # Sleep function\n",
    "import threading  # Async job launching\n"
   ]
  },
  {
   "cell_type": "markdown",
   "metadata": {},
   "source": [
    "#### Classes"
   ]
  },
  {
   "cell_type": "code",
   "execution_count": 6,
   "metadata": {},
   "outputs": [],
   "source": [
    "class Scheduler(object):\n",
    "    \"\"\"Job scheduler\"\"\"\n",
    "    def schedule(self, f, n):\n",
    "        \"\"\"Schedules function `f` to be asyncronously run in `n` milliseconds.\"\"\"\n",
    "        def launch(f, n):\n",
    "            time.sleep(n/1000)\n",
    "            f()\n",
    "        threading.Thread(target=launch, args=(f, n), daemon=True).start()\n"
   ]
  },
  {
   "cell_type": "code",
   "execution_count": 3,
   "metadata": {},
   "outputs": [],
   "source": [
    "class Timer(object):\n",
    "    \"\"\"Saves a point in time for later referral\"\"\"\n",
    "    def __init__(self):\n",
    "        self._previous = None\n",
    "        \n",
    "    def mark(self):\n",
    "        \"\"\"Saves current time.\"\"\"\n",
    "        self._previous = time.time()\n",
    "        \n",
    "    def time_since_last(self):\n",
    "        \"\"\"Print difference between now and saved time.\"\"\"\n",
    "        if self._previous is None:\n",
    "            print('No saved time')\n",
    "        else:\n",
    "            print(f'{time.time() - self._previous:.2f} seconds have elapsed')\n"
   ]
  },
  {
   "cell_type": "markdown",
   "metadata": {},
   "source": [
    "#### Testing"
   ]
  },
  {
   "cell_type": "code",
   "execution_count": 7,
   "metadata": {},
   "outputs": [],
   "source": [
    "timer = Timer()\n",
    "scheduler = Scheduler()\n"
   ]
  },
  {
   "cell_type": "code",
   "execution_count": 8,
   "metadata": {},
   "outputs": [
    {
     "name": "stdout",
     "output_type": "stream",
     "text": [
      "3.00 seconds have elapsed\n"
     ]
    }
   ],
   "source": [
    "timer.mark()\n",
    "scheduler.schedule(timer.time_since_last, 3000)\n"
   ]
  }
 ],
 "metadata": {
  "kernelspec": {
   "display_name": "Python 3",
   "language": "python",
   "name": "python3"
  },
  "language_info": {
   "codemirror_mode": {
    "name": "ipython",
    "version": 3
   },
   "file_extension": ".py",
   "mimetype": "text/x-python",
   "name": "python",
   "nbconvert_exporter": "python",
   "pygments_lexer": "ipython3",
   "version": "3.7.2"
  }
 },
 "nbformat": 4,
 "nbformat_minor": 2
}
