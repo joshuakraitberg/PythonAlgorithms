{
 "cells": [
  {
   "cell_type": "markdown",
   "metadata": {},
   "source": [
    "# Daily Coding Problem: Problem #22 [Medium]"
   ]
  },
  {
   "cell_type": "markdown",
   "metadata": {},
   "source": [
    "Good morning! Here's your coding interview problem for today.\n",
    "\n",
    "This problem was asked by Microsoft.\n",
    "\n",
    "Given a dictionary of words and a string made up of those words (no spaces), return the original sentence in a list. If there is more than one possible reconstruction, return any of them. If there is no possible reconstruction, then return null.\n",
    "\n",
    "For example, given the set of words 'quick', 'brown', 'the', 'fox', and the string \"thequickbrownfox\", you should return ['the', 'quick', 'brown', 'fox'].\n",
    "\n",
    "Given the set of words 'bed', 'bath', 'bedbath', 'and', 'beyond', and the string \"bedbathandbeyond\", return either ['bed', 'bath', 'and', 'beyond] or ['bedbath', 'and', 'beyond']."
   ]
  },
  {
   "cell_type": "code",
   "execution_count": 1,
   "metadata": {},
   "outputs": [],
   "source": [
    "def naive_builder(words, query):\n",
    "    items = []\n",
    "    i, j = 0, 0\n",
    "    while j <= len(query):\n",
    "        if query[i:j] in words:\n",
    "            items.append(query[i:j])\n",
    "            i = j\n",
    "        else:\n",
    "            j += 1\n",
    "    return items if i == len(query) else None\n"
   ]
  },
  {
   "cell_type": "markdown",
   "metadata": {},
   "source": [
    "### Naive Test"
   ]
  },
  {
   "cell_type": "code",
   "execution_count": 2,
   "metadata": {},
   "outputs": [
    {
     "name": "stdout",
     "output_type": "stream",
     "text": [
      "['the', 'quick', 'brown', 'fox']\n",
      "['bed', 'bath', 'and', 'beyond']\n"
     ]
    }
   ],
   "source": [
    "words, query = {'quick', 'brown', 'the', 'fox',}, 'thequickbrownfox'\n",
    "print(naive_builder(words, query))\n",
    "assert naive_builder(words, query) == ['the', 'quick', 'brown', 'fox',]\n",
    "\n",
    "words, query = {'bed', 'bath', 'bedbath', 'and', 'beyond',}, 'bedbathandbeyond'\n",
    "print(naive_builder(words, query))\n",
    "assert naive_builder(words, query) in [['bedbath', 'and', 'beyond',], ['bed', 'bath', 'and', 'beyond',]]\n"
   ]
  },
  {
   "cell_type": "markdown",
   "metadata": {},
   "source": [
    "## Scenario Two"
   ]
  },
  {
   "cell_type": "markdown",
   "metadata": {},
   "source": [
    "Suppose this:\n",
    "```python\n",
    "words = {'welcome', 'to', 'the', 'block', 'blockade',}\n",
    "query = 'welcometotheblockade'\n",
    "```\n",
    "    \n",
    "Using obvious method, `'block'` would be taken and sentence can not be completed."
   ]
  },
  {
   "cell_type": "code",
   "execution_count": 3,
   "metadata": {},
   "outputs": [],
   "source": [
    "def smart_builder(words, query):\n",
    "    items = []\n",
    "    locations = []\n",
    "    i, j = 0, 0\n",
    "    while i < len(query):\n",
    "        while j <= len(query):\n",
    "            if query[i:j] in words:\n",
    "                items.append(query[i:j])\n",
    "                locations.append((i, j))\n",
    "                i = j\n",
    "            else:\n",
    "                j += 1\n",
    "        if i < len(query):\n",
    "            if not items:\n",
    "                return None\n",
    "            items.pop()\n",
    "            i, j = locations.pop()\n",
    "            j += 1\n",
    "    return items\n"
   ]
  },
  {
   "cell_type": "code",
   "execution_count": 4,
   "metadata": {},
   "outputs": [
    {
     "name": "stdout",
     "output_type": "stream",
     "text": [
      "['the', 'quick', 'brown', 'fox']\n",
      "['bed', 'bath', 'and', 'beyond']\n",
      "['welcome', 'to', 'the', 'blockade']\n"
     ]
    }
   ],
   "source": [
    "words, query = {'quick', 'brown', 'the', 'fox',}, 'thequickbrownfox'\n",
    "print(naive_builder(words, query))\n",
    "assert naive_builder(words, query) == ['the', 'quick', 'brown', 'fox',]\n",
    "\n",
    "words, query = {'bed', 'bath', 'bedbath', 'and', 'beyond',}, 'bedbathandbeyond'\n",
    "print(naive_builder(words, query))\n",
    "assert naive_builder(words, query) in [['bedbath', 'and', 'beyond',], ['bed', 'bath', 'and', 'beyond',]]\n",
    "\n",
    "\n",
    "words, query = {'welcome', 'to', 'the', 'blockade', 'block',}, 'welcometotheblockade'\n",
    "print(smart_builder(words, query))\n",
    "assert smart_builder(words, query) == ['welcome', 'to', 'the', 'blockade']\n"
   ]
  }
 ],
 "metadata": {
  "kernelspec": {
   "display_name": "Python 3",
   "language": "python",
   "name": "python3"
  },
  "language_info": {
   "codemirror_mode": {
    "name": "ipython",
    "version": 3
   },
   "file_extension": ".py",
   "mimetype": "text/x-python",
   "name": "python",
   "nbconvert_exporter": "python",
   "pygments_lexer": "ipython3",
   "version": "3.7.2"
  }
 },
 "nbformat": 4,
 "nbformat_minor": 2
}
