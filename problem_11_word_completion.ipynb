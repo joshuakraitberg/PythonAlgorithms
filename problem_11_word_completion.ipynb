{
 "cells": [
  {
   "cell_type": "markdown",
   "metadata": {},
   "source": [
    "# Daily Coding Problem: Problem #11 [Medium]"
   ]
  },
  {
   "cell_type": "markdown",
   "metadata": {},
   "source": [
    "Good morning! Here's your coding interview problem for today.\n",
    "\n",
    "This problem was asked by Twitter.\n",
    "\n",
    "Implement an autocomplete system. That is, given a query string s and a set of all possible query strings, return all strings in the set that have s as a prefix.\n",
    "\n",
    "For example, given the query string de and the set of strings [dog, deer, deal], return [deer, deal].\n",
    "\n",
    "Hint: Try preprocessing the dictionary into a more efficient data structure to speed up queries."
   ]
  },
  {
   "cell_type": "code",
   "execution_count": null,
   "metadata": {},
   "outputs": [],
   "source": [
    "class Node(object):\n",
    "    def __init__(self, value):\n",
    "        self.value = value\n",
    "        self.children = {}\n",
    "            \n",
    "    def get_leaves(self, n=-1):\n",
    "        \"\"\"Returns `n` leaves, -1 for all\"\"\"\n",
    "        leaves = []\n",
    "        if not self.children:\n",
    "            return [self.value]\n",
    "        for k, v in sorted(self.children.items(), key=lambda x: x[0]):\n",
    "            if n == 0:\n",
    "                break\n",
    "            l = v.get_leaves(n)\n",
    "            if n != -1:\n",
    "                n -= len(l)\n",
    "            leaves.extend(l)\n",
    "        return leaves\n"
   ]
  },
  {
   "cell_type": "code",
   "execution_count": 2,
   "metadata": {},
   "outputs": [],
   "source": [
    "class Trie(object):\n",
    "    \"\"\"Structure used to find words based on prefix\"\"\"\n",
    "    def __init__(self):\n",
    "        self.value = ''\n",
    "        self.children = {}\n",
    "            \n",
    "    def insert(self, word):\n",
    "        \"\"\"Insert new word into tree\"\"\"\n",
    "        node = self\n",
    "        for i, c in enumerate(word):\n",
    "            node = node.children.setdefault(c, Node(word[:i + 1]))\n",
    "        \n",
    "    def find(self, word) -> Node:\n",
    "        \"\"\"Find node in tree containing word\"\"\"\n",
    "        node = self\n",
    "        for c in word:\n",
    "            if node is None:\n",
    "                break\n",
    "            node = node.children.get(c, None)\n",
    "        return node\n",
    "    \n",
    "    @staticmethod\n",
    "    def build_from_txt(fname):\n",
    "        trie = Trie()\n",
    "        with open(fname, 'r') as f:\n",
    "            for l in f:\n",
    "                trie.insert(l.strip())\n",
    "        return trie\n"
   ]
  },
  {
   "cell_type": "code",
   "execution_count": 3,
   "metadata": {},
   "outputs": [
    {
     "name": "stdout",
     "output_type": "stream",
     "text": [
      "['deal', 'deer']\n"
     ]
    }
   ],
   "source": [
    "trie = Trie()\n",
    "trie.insert('dog')\n",
    "trie.insert('deer')\n",
    "trie.insert('deal')\n",
    "print(trie.find('de').get_leaves())\n"
   ]
  },
  {
   "cell_type": "code",
   "execution_count": 4,
   "metadata": {},
   "outputs": [],
   "source": [
    "trie = Trie.build_from_txt('words.txt')\n"
   ]
  },
  {
   "cell_type": "code",
   "execution_count": null,
   "metadata": {},
   "outputs": [],
   "source": [
    "import time\n",
    "\n",
    "prefix = 'donn'\n",
    "\n",
    "t1 = time.time()\n",
    "node = trie.find(prefix)\n",
    "words = node.get_leaves()\n",
    "t2 = time.time()\n",
    "\n",
    "print(f'Spent {t2 - t1:.8f} seconds finding {len(words)} {\"word\" if len(words) == 1 else \"words\"} for prefix: \"{prefix}\"')\n",
    "print(words)\n"
   ]
  }
 ],
 "metadata": {
  "kernelspec": {
   "display_name": "Python 3",
   "language": "python",
   "name": "python3"
  },
  "language_info": {
   "codemirror_mode": {
    "name": "ipython",
    "version": 3
   },
   "file_extension": ".py",
   "mimetype": "text/x-python",
   "name": "python",
   "nbconvert_exporter": "python",
   "pygments_lexer": "ipython3",
   "version": "3.7.2"
  }
 },
 "nbformat": 4,
 "nbformat_minor": 2
}
